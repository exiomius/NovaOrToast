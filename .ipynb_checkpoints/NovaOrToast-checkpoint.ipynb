{
 "cells": [
  {
   "cell_type": "markdown",
   "id": "6e246129",
   "metadata": {},
   "source": [
    "# "
   ]
  },
  {
   "cell_type": "code",
   "execution_count": 1,
   "id": "435a6f23",
   "metadata": {},
   "outputs": [],
   "source": [
    "#%pip install -q gradio\n",
    "#%pip install fastbook\n",
    "#%pip install -Uqq fastai"
   ]
  },
  {
   "cell_type": "code",
   "execution_count": 2,
   "id": "a89a7628",
   "metadata": {},
   "outputs": [],
   "source": [
    "import fastbook\n",
    "fastbook.setup_book()\n",
    "from fastbook import *\n",
    "from fastai.vision.widgets import *\n",
    "from fastai.vision.all import *\n",
    "import gradio as gr"
   ]
  },
  {
   "cell_type": "code",
   "execution_count": 3,
   "id": "8c95d6bd",
   "metadata": {},
   "outputs": [],
   "source": [
    "#!pip uninstall Pillow\n",
    "#!pip install Pillow\n",
    "# import PIL.Image\n",
    "# if not hasattr(PIL.Image, 'Resampling'):  # Pillow<9.0\n",
    "#     PIL.Image.Resampling = PIL.Image\n",
    "# Now PIL.Image.Resampling.BICUBIC is always recognized."
   ]
  },
  {
   "cell_type": "code",
   "execution_count": 4,
   "id": "fe4889a5",
   "metadata": {},
   "outputs": [],
   "source": [
    "import pathlib\n",
    "temp = pathlib.PosixPath\n",
    "pathlib.PosixPath = pathlib.WindowsPath"
   ]
  },
  {
   "cell_type": "code",
   "execution_count": 5,
   "id": "d1d0d596",
   "metadata": {},
   "outputs": [
    {
     "name": "stderr",
     "output_type": "stream",
     "text": [
      "C:\\Users\\Adnan\\anaconda3\\lib\\site-packages\\gradio\\inputs.py:256: UserWarning: Usage of gradio.inputs is deprecated, and will not be supported in the future, please import your component from gradio.components\n",
      "  warnings.warn(\n",
      "C:\\Users\\Adnan\\anaconda3\\lib\\site-packages\\gradio\\deprecation.py:40: UserWarning: `optional` parameter is deprecated, and it has no effect\n",
      "  warnings.warn(value)\n",
      "C:\\Users\\Adnan\\anaconda3\\lib\\site-packages\\gradio\\outputs.py:196: UserWarning: Usage of gradio.outputs is deprecated, and will not be supported in the future, please import your components from gradio.components\n",
      "  warnings.warn(\n",
      "C:\\Users\\Adnan\\anaconda3\\lib\\site-packages\\gradio\\deprecation.py:40: UserWarning: The 'type' parameter has been deprecated. Use the Number component instead.\n",
      "  warnings.warn(value)\n"
     ]
    },
    {
     "name": "stdout",
     "output_type": "stream",
     "text": [
      "Running on local URL:  http://127.0.0.1:7860\n",
      "\n",
      "To create a public link, set `share=True` in `launch()`.\n"
     ]
    },
    {
     "data": {
      "text/plain": [
       "(<gradio.routes.App at 0x2b7e98ecca0>, 'http://127.0.0.1:7860/', None)"
      ]
     },
     "execution_count": 5,
     "metadata": {},
     "output_type": "execute_result"
    }
   ],
   "source": [
    "learn_inf = load_learner('NovaOrToastModel.pkl')\n",
    "learn_inf.dls.vocab # Reminds us of the categories\n",
    "categories = learn_inf.dls.vocab\n",
    "\n",
    "def classify_image(img):\n",
    "    pred, idx, probs = learn_inf.predict(img)\n",
    "    return dict(zip(categories, map(float,probs)))\n",
    "\n",
    "image = gr.inputs.Image(shape=(192,192)) \n",
    "label = gr.outputs.Label()\n",
    "examples = [\"ToastTest.jpeg\"]\n",
    "\n",
    "intf = gr.Interface(fn=classify_image, inputs=image, outputs=label, examples=examples)\n",
    "intf.launch(inline=False)"
   ]
  }
 ],
 "metadata": {
  "kernelspec": {
   "display_name": "Python 3 (ipykernel)",
   "language": "python",
   "name": "python3"
  },
  "language_info": {
   "codemirror_mode": {
    "name": "ipython",
    "version": 3
   },
   "file_extension": ".py",
   "mimetype": "text/x-python",
   "name": "python",
   "nbconvert_exporter": "python",
   "pygments_lexer": "ipython3",
   "version": "3.9.12"
  }
 },
 "nbformat": 4,
 "nbformat_minor": 5
}
